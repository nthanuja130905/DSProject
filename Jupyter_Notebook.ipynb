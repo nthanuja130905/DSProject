{
 "cells": [
  {
   "cell_type": "markdown",
   "metadata": {},
   "source": [
    "<center>\n",
    "    <img src=\"https://cf-courses-data.s3.us.cloud-object-storage.appdomain.cloud/IBMDeveloperSkillsNetwork-DS0105EN-SkillsNetwork/labs/Module2/images/SN_web_lightmode.png\" width=\"300\" alt=\"cognitiveclass.ai logo\">\n",
    "</center>\n"
   ]
  },
  {
   "cell_type": "markdown",
   "metadata": {},
   "source": [
    "#### Add your code below following the instructions given in the course\n"
   ]
  },
  {
   "cell_type": "markdown",
   "metadata": {},
   "source": [
    "# Data Science Essentials"
   ]
  },
  {
   "cell_type": "markdown",
   "metadata": {},
   "source": [
    "### Introduction  \n",
    "\n",
    "Data science is an interdisciplinary field that combines statistics, programming, and domain knowledge to extract insights from data. It involves techniques such as data analysis, machine learning, and data visualization to make informed decisions. Popular tools and languages used in data science include Python, R, SQL, and various libraries like NumPy and Pandas.  \n",
    "\n",
    "This notebook will explore key concepts, tools, and techniques used in data science."
   ]
  },
  {
   "cell_type": "markdown",
   "metadata": {},
   "source": [
    "### Popular Data Science Languages  \n",
    "\n",
    "1. *Python* - The most widely used language for data science, known for its simplicity and extensive libraries.  \n",
    "2. *R* - A language designed for statistical computing and graphics, widely used in academia and research.  \n",
    "3. *SQL* - Essential for querying and managing structured databases in data science workflows.  \n",
    "4. *Julia* - A high-performance language for numerical computing and machine learning.  \n",
    "5. *Java* - Used for big data technologies like Hadoop and Spark, as well as enterprise-level data applications.  \n",
    "6. *Scala* - Works well with Apache Spark for big data processing and analytics.  \n",
    "7. *MATLAB* - Often used in scientific computing, data visualization, and engineering applications."
   ]
  },
  {
   "cell_type": "markdown",
   "metadata": {},
   "source": [
    "### Popular Data Science Libraries\n",
    "\n",
    "1. *NumPy* - Provides support for large multi-dimensional arrays and matrices, along with mathematical functions.\n",
    "2. *Pandas* - Offers data structures and data analysis tools for manipulating structured data.\n",
    "3. *Matplotlib* - A plotting library for creating static, animated, and interactive visualizations.\n",
    "4. *Seaborn* - Built on Matplotlib, used for statistical data visualization.\n",
    "5. *Scikit-learn* - A machine learning library with simple and efficient tools for data mining and analysis.\n",
    "6. *TensorFlow* - An open-source framework for machine learning and deep learning.\n",
    "7. *PyTorch* - A flexible deep learning framework with dynamic computation graphs.\n",
    "8. *Statsmodels* - Provides statistical models and hypothesis testing tools.\n",
    "9. *SciPy* - Contains modules for optimization, integration, and signal processing.\n",
    "10. *XGBoost* - An optimized gradient boosting library for efficient and accurate predictions."
   ]
  },
  {
   "cell_type": "markdown",
   "metadata": {},
   "source": [
    "### Data Science Tools  \n",
    "\n",
    "| Tool           | Description                                        |\n",
    "|---------------|----------------------------------------------------|\n",
    "| Jupyter Notebook | An interactive environment for coding and visualization. |\n",
    "| Apache Spark  | A fast and powerful engine for big data processing. |\n",
    "| TensorFlow    | An open-source library for deep learning and AI.   |\n",
    "| Power BI      | A business analytics tool for data visualization.  |\n",
    "| Tableau       | A powerful tool for interactive data visualization. |\n",
    "| Hadoop        | A framework for distributed storage and processing of big data. |\n",
    "| KNIME         | An open-source platform for data analytics and reporting. |\n",
    "| RapidMiner    | A data science platform for machine learning and predictive analytics. |"
   ]
  },
  {
   "cell_type": "markdown",
   "metadata": {},
   "source": [
    "### Arithmetic Expression Examples  \n",
    "\n",
    "Arithmetic expressions are mathematical calculations that involve numbers and operators such as addition (+), subtraction (-), multiplication (*), and division (/). These expressions help perform various computations in programming and data analysis.  \n",
    "\n",
    "Below are some examples of arithmetic expressions:  \n",
    "- *Addition:* 5 + 3 = 8  \n",
    "- *Subtraction:* 10 - 4 = 6  \n",
    "- *Multiplication:* 6 * 7 = 42  \n",
    "- *Division:* 20 / 5 = 4  \n",
    "- *Exponentiation:* 2 ** 3 = 8  \n",
    "\n",
    "These operations are essential for numerical computations in data science and programming."
   ]
  },
  {
   "cell_type": "code",
   "execution_count": 1,
   "metadata": {},
   "outputs": [
    {
     "name": "stdout",
     "output_type": "stream",
     "text": [
      "Multiplication Result: 15\n",
      "Addition Result: 8\n"
     ]
    }
   ],
   "source": [
    "# Multiply and add numbers\n",
    "a = 5\n",
    "b = 3\n",
    "\n",
    "multiplication_result = a * b\n",
    "addition_result = a + b\n",
    "\n",
    "print(\"Multiplication Result:\", multiplication_result)\n",
    "print(\"Addition Result:\", addition_result)"
   ]
  },
  {
   "cell_type": "code",
   "execution_count": 3,
   "metadata": {},
   "outputs": [
    {
     "name": "stdout",
     "output_type": "stream",
     "text": [
      "120 minutes is equal to 2.0 hours\n"
     ]
    }
   ],
   "source": [
    "# Convert minutes to hours\n",
    "minutes = 120\n",
    "hours = minutes / 60\n",
    "\n",
    "print(f\"{minutes} minutes is equal to {hours} hours\")"
   ]
  },
  {
   "cell_type": "markdown",
   "metadata": {},
   "source": [
    "### Objectives  \n",
    "\n",
    "- Understand the fundamentals of data science.  \n",
    "- Learn about popular data science tools and languages.  \n",
    "- Perform basic arithmetic operations in Python.  \n",
    "- Convert time units (minutes to hours) using Python.  \n",
    "- Explore different data visualization techniques."
   ]
  },
  {
   "cell_type": "markdown",
   "metadata": {},
   "source": [
    "### Author  \n",
    "Thanuja N*"
   ]
  },
  {
   "cell_type": "code",
   "execution_count": null,
   "metadata": {},
   "outputs": [],
   "source": []
  }
 ],
 "metadata": {
  "kernelspec": {
   "display_name": "Python 3 (ipykernel)",
   "language": "python",
   "name": "python3"
  },
  "language_info": {
   "codemirror_mode": {
    "name": "ipython",
    "version": 3
   },
   "file_extension": ".py",
   "mimetype": "text/x-python",
   "name": "python",
   "nbconvert_exporter": "python",
   "pygments_lexer": "ipython3",
   "version": "3.12.8"
  }
 },
 "nbformat": 4,
 "nbformat_minor": 4
}
